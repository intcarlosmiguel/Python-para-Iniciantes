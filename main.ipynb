{
 "cells": [
  {
   "cell_type": "markdown",
   "metadata": {},
   "source": [
    "# Introdução ao Python"
   ]
  },
  {
   "cell_type": "markdown",
   "metadata": {},
   "source": [
    "Olá, esse aqui é um curso utilizando linguagem python dentro desse notebook. Aqui eu irei explicar todo o básico de python para que você possa dar seu ponta pé inicial nessa linguagem. Existem vários locais de excelente consulta, desde a própria documentação do Python ou em um site muito interessante para iniciantes que é o W3Schools ou as vezes pesquisar no google é o suficiente."
   ]
  },
  {
   "cell_type": "markdown",
   "metadata": {},
   "source": [
    "1. Intuição\n",
    "2. Print e Comentários\n",
    "3. Variáveis e seus tipos (simples)\n",
    "4. Input\n",
    "5. Condicionais\n",
    "6. Loops (While e For)\n",
    "7. Estruturas\n",
    "8. String\n",
    "9. Funções\n",
    "10. Map, Reduce, Compressão de Lista e Lambda\n",
    "11. Pegar Erros (Try e Except).\n",
    "12. Bibliotecas Nativas\n",
    "13. Módulos\n",
    "14. Bibliotecas Não Nativas\n",
    "15. Arquivos\n",
    "16. Orientação à Objeto"
   ]
  },
  {
   "cell_type": "markdown",
   "metadata": {},
   "source": [
    "## 1. Intuição"
   ]
  },
  {
   "cell_type": "markdown",
   "metadata": {},
   "source": [
    "Quando estudamos uma linguagem de programação nós estamos interessados em resolver algum tipo de problema. Esse problema pode vir de diversas formas como por exemplo um cliente. Você irá desenvolver algum tipo de software que irá receber os dados do cliente, esse software irá mandar esses dados para um algoritmo para que irá dar a resposta que será exibida pelo software para o cliente (exemplicidado na Figura 1). Essa é uma ideia básica de como são feitos todos os programas da internet, incluindo sites, IAs, etc."
   ]
  },
  {
   "cell_type": "markdown",
   "metadata": {},
   "source": [
    "![alt text](./imagem1.png \"Title\")"
   ]
  },
  {
   "cell_type": "markdown",
   "metadata": {},
   "source": [
    "# 2. Print e Comentários"
   ]
  },
  {
   "cell_type": "markdown",
   "metadata": {},
   "source": [
    "Nesse sentido vamos mostrar o primeiro comando do python: `print`. Ele serve para exibir de forma simplória para você alguma coisa. Por exemplo, vamos exibir para você o texto \"Hello World!\". Esse comando é chamado no python de `função`, que terá uma sessão própria. Nessa função você irá escrever o nome da função e colocar entre parêntes `print()` e dentro do parênteses você vai inserir o que deve ser exibido como por exemplo:"
   ]
  },
  {
   "cell_type": "code",
   "execution_count": 3,
   "metadata": {},
   "outputs": [
    {
     "name": "stdout",
     "output_type": "stream",
     "text": [
      "Hello World\n"
     ]
    }
   ],
   "source": [
    "print('Hello World')"
   ]
  },
  {
   "cell_type": "markdown",
   "metadata": {},
   "source": [
    "O texto no python deve ser escrito entre aspas, mas iremos detalhar isso nas próximas sessões. Além de devolver texto podemos devolver números e operações com esse números (algo que entraremos em detalhes nas próximas sessões)."
   ]
  },
  {
   "cell_type": "code",
   "execution_count": 2,
   "metadata": {},
   "outputs": [
    {
     "name": "stdout",
     "output_type": "stream",
     "text": [
      "15\n",
      "3\n",
      "35\n"
     ]
    }
   ],
   "source": [
    "print(15)\n",
    "print(1+2)\n",
    "print(5*7)"
   ]
  },
  {
   "cell_type": "markdown",
   "metadata": {},
   "source": [
    "Também podemos exibir mais de um tipo de resultado com o `print`, para separar cada resultado será utilizado uma vírgula, como por exemplo:"
   ]
  },
  {
   "cell_type": "code",
   "execution_count": 1,
   "metadata": {},
   "outputs": [
    {
     "name": "stdout",
     "output_type": "stream",
     "text": [
      "A soma de 5 com 3 é 8\n"
     ]
    }
   ],
   "source": [
    "print('A soma de 5 com 3 é', 5+3)"
   ]
  },
  {
   "cell_type": "markdown",
   "metadata": {},
   "source": [
    "Por fim, quanto mais aumentamos a complexidade do código maior a chance de nos perdermos enquanto trabalhamos nele, além disso esse código pode ser lido por outras pessoas e a depender de como está escrito pode a outra pessoa também se perder. Para ajudar a evitar essas complicações podemos usar comentários no python usando `#`. O que estiver comentado não irá ser executado pelo código, o que você pode se utilizar para explicá-lo ou retirar alguma linha que esteja dando errado."
   ]
  },
  {
   "cell_type": "code",
   "execution_count": 3,
   "metadata": {},
   "outputs": [
    {
     "name": "stdout",
     "output_type": "stream",
     "text": [
      "4\n"
     ]
    }
   ],
   "source": [
    "# Essa parte do código devolve 2 ao quadrado\n",
    "print(2**2)"
   ]
  },
  {
   "cell_type": "markdown",
   "metadata": {},
   "source": [
    "# 3. Variáveis, seus tipos (básico) e operações"
   ]
  },
  {
   "cell_type": "markdown",
   "metadata": {},
   "source": [
    "Um fator importante na construção do código é armazenar valores. Nós precisaremos armazenar dados para que possamos trabalhar com eles ou atualizar eles para podermos ter uma resposta efetiva para o usuário. Portanto podemos utilizar as `variáveis` para fazer esse papel, para armazenar um valor nessa variável é só fazer `nome_da_variavel = valor`, da seguinte forma:"
   ]
  },
  {
   "cell_type": "code",
   "execution_count": 4,
   "metadata": {},
   "outputs": [],
   "source": [
    "miguel = 5"
   ]
  },
  {
   "cell_type": "markdown",
   "metadata": {},
   "source": [
    "Para provar que a variável foi salva regularmente podemos devolver utilizando o `print`:"
   ]
  },
  {
   "cell_type": "code",
   "execution_count": 5,
   "metadata": {},
   "outputs": [
    {
     "name": "stdout",
     "output_type": "stream",
     "text": [
      "5\n"
     ]
    }
   ],
   "source": [
    "print(miguel)"
   ]
  },
  {
   "cell_type": "markdown",
   "metadata": {},
   "source": [
    "Para entender melhor a linha retrasada precisamos entender o conceito do `=`. Apesar de ser o mesmo símbolo de igual na matemática, esse não é a melhor forma de entender o que está acontecendo. A melhor forma de ler esse comando é como \"a variável miguel recebe 5\" ao invés de \"a variável miguel é igual a 5\". Ler dessa forma não parece ser muito vantajoso nesse momento, mas no futuro será."
   ]
  },
  {
   "cell_type": "markdown",
   "metadata": {},
   "source": [
    "Ao escrevermos um nome de variável no python - e em grande parte das linguagens de programação - existem regras na escrita, caso você escreva alguma variável de forma errada o python apresentará um erro para você o chamado erro de **sintaxe**. As regras de escrita de python são:\n",
    "\n",
    "1. Iniciar sempre com letras, jamais com números ou caracteres especiais (exceto o subtraço \"_\");"
   ]
  },
  {
   "cell_type": "code",
   "execution_count": 2,
   "metadata": {},
   "outputs": [
    {
     "ename": "SyntaxError",
     "evalue": "invalid syntax (<ipython-input-2-f90de815de8e>, line 1)",
     "output_type": "error",
     "traceback": [
      "\u001b[0;36m  File \u001b[0;32m\"<ipython-input-2-f90de815de8e>\"\u001b[0;36m, line \u001b[0;32m1\u001b[0m\n\u001b[0;31m    1miguel = 1\u001b[0m\n\u001b[0m     ^\u001b[0m\n\u001b[0;31mSyntaxError\u001b[0m\u001b[0;31m:\u001b[0m invalid syntax\n"
     ]
    }
   ],
   "source": [
    "1miguel = 1"
   ]
  },
  {
   "cell_type": "code",
   "execution_count": 3,
   "metadata": {},
   "outputs": [
    {
     "name": "stdout",
     "output_type": "stream",
     "text": [
      "5\n"
     ]
    }
   ],
   "source": [
    "miguel = 5\n",
    "print(miguel)"
   ]
  },
  {
   "cell_type": "code",
   "execution_count": 4,
   "metadata": {},
   "outputs": [
    {
     "name": "stdout",
     "output_type": "stream",
     "text": [
      "8\n"
     ]
    }
   ],
   "source": [
    "_miguel = 5+3\n",
    "print(_miguel)"
   ]
  },
  {
   "cell_type": "code",
   "execution_count": 11,
   "metadata": {},
   "outputs": [
    {
     "name": "stdout",
     "output_type": "stream",
     "text": [
      "1\n"
     ]
    }
   ],
   "source": [
    "miguel1 = 1 # É possível utilizar números no meio ou no final, nunca no começo\n",
    "print(miguel1)"
   ]
  },
  {
   "cell_type": "markdown",
   "metadata": {},
   "source": [
    "2. Há diferença entre variáveis com letras maiúsculas e minúsculas;"
   ]
  },
  {
   "cell_type": "code",
   "execution_count": 5,
   "metadata": {},
   "outputs": [
    {
     "name": "stdout",
     "output_type": "stream",
     "text": [
      "5 8\n"
     ]
    }
   ],
   "source": [
    "miguel = 5\n",
    "Miguel = 8\n",
    "print(miguel,Miguel)"
   ]
  },
  {
   "cell_type": "markdown",
   "metadata": {},
   "source": [
    "3. Não utilizar espaços em caso de nomes compostos; "
   ]
  },
  {
   "cell_type": "code",
   "execution_count": 6,
   "metadata": {},
   "outputs": [
    {
     "ename": "SyntaxError",
     "evalue": "invalid syntax (<ipython-input-6-aa74811bd8f2>, line 1)",
     "output_type": "error",
     "traceback": [
      "\u001b[0;36m  File \u001b[0;32m\"<ipython-input-6-aa74811bd8f2>\"\u001b[0;36m, line \u001b[0;32m1\u001b[0m\n\u001b[0;31m    mig uel = 5\u001b[0m\n\u001b[0m        ^\u001b[0m\n\u001b[0;31mSyntaxError\u001b[0m\u001b[0;31m:\u001b[0m invalid syntax\n"
     ]
    }
   ],
   "source": [
    "mig uel = 5"
   ]
  },
  {
   "cell_type": "code",
   "execution_count": 12,
   "metadata": {},
   "outputs": [
    {
     "name": "stdout",
     "output_type": "stream",
     "text": [
      "5\n"
     ]
    }
   ],
   "source": [
    "mig_uel = 5 # O recomendado é usar \"_\" como espaço\n",
    "print(mig_uel)"
   ]
  },
  {
   "cell_type": "markdown",
   "metadata": {},
   "source": [
    "4. Não utilizar palavras reservadas da linguagem para dar nome as variáveis; "
   ]
  },
  {
   "cell_type": "code",
   "execution_count": 9,
   "metadata": {},
   "outputs": [
    {
     "ename": "SyntaxError",
     "evalue": "invalid syntax (<ipython-input-9-0e0c90d245a5>, line 1)",
     "output_type": "error",
     "traceback": [
      "\u001b[0;36m  File \u001b[0;32m\"<ipython-input-9-0e0c90d245a5>\"\u001b[0;36m, line \u001b[0;32m1\u001b[0m\n\u001b[0;31m    in = 5\u001b[0m\n\u001b[0m    ^\u001b[0m\n\u001b[0;31mSyntaxError\u001b[0m\u001b[0;31m:\u001b[0m invalid syntax\n"
     ]
    }
   ],
   "source": [
    "in = 5"
   ]
  },
  {
   "cell_type": "markdown",
   "metadata": {},
   "source": [
    "**OBS**: Ao escrever nome de variáveis é recomendado que seja escrito de forma que relacione a variável com o que está escrito, por exemplo se você deseja calcular alguma velocidade a variável que for guardar o valor deve se chamar `velocidade` e não `v` ou `vc`. Isso ajuda muito na leitura do código. Além disso existe um padrão para o nome de variáveis no python chamado **snake_case** na qual você escreve tudo em minúsculo e caso tenha espaço utilizar o \"_\", por exemplo: `velocidade_do_aviao` e não `VelocidadeDoAviao`."
   ]
  },
  {
   "cell_type": "markdown",
   "metadata": {},
   "source": [
    "Em qualquer linguagem de programação é necessário lidar com diferentes tipos de dados, no python temos os seguintes tipos de variáveis básicas: inteiro, flutuante, boleano e string. O inteiro representa qualquer número inteiro, ou seja, que não tem casa decimal, enquanto que o flutuante representa o tipo de número com casas decimais, o boleano tem dois tipos de valores possíveis `True` ou `False` (que serão mais úteis nas próximas sessões) e o string é o tipo do texto. Segue aqui alguns exemplos:"
   ]
  },
  {
   "cell_type": "code",
   "execution_count": 9,
   "metadata": {},
   "outputs": [
    {
     "name": "stdout",
     "output_type": "stream",
     "text": [
      "167\n",
      "0.3333333333333333\n",
      "True\n",
      "Olá Mundo\n",
      "Olá Mundo\n"
     ]
    }
   ],
   "source": [
    "print(167)\n",
    "print(1/3)\n",
    "print(True)\n",
    "print('Olá Mundo')\n",
    "print(\"Olá Mundo\")"
   ]
  },
  {
   "cell_type": "markdown",
   "metadata": {},
   "source": [
    "Para olharmos o tipo de cada variável podemos utilizar uma função do python chamado `type` (explicaremos no futuro o que são funções). Assim como o `print` você abre parênteses e escreve dentro a variável que você deseja saber o tipo."
   ]
  },
  {
   "cell_type": "code",
   "execution_count": 10,
   "metadata": {},
   "outputs": [
    {
     "name": "stdout",
     "output_type": "stream",
     "text": [
      "<class 'int'>\n",
      "<class 'float'>\n",
      "<class 'bool'>\n",
      "<class 'str'>\n",
      "<class 'str'>\n"
     ]
    }
   ],
   "source": [
    "print(type(167))\n",
    "print(type(1/3))\n",
    "print(type(True))\n",
    "print(type('Olá Mundo'))\n",
    "print(type(\"Olá Mundo\")) # Aqui podemos ver que usar aspas simples ou aspas duplas não fazem diferença no python, a priori"
   ]
  },
  {
   "cell_type": "markdown",
   "metadata": {},
   "source": [
    "Uma importante característica do python é que ele não é tipado, ou seja, você pode mudar em qualquer momento o tipo da sua variável de forma flexível no código. Isso pode ser vantajoso já que economiza no número de variáveis, porém ao aumentar a complexidade do código isso pode acabar dificultando pois uma variável no começo pode acabar trocando tipo e quebrando toda a lógica futura. Por isso é importante comentar seu código e tomar cuidado ao mudar o tipo da variável. Segue um exemplo:"
   ]
  },
  {
   "cell_type": "code",
   "execution_count": 12,
   "metadata": {},
   "outputs": [
    {
     "name": "stdout",
     "output_type": "stream",
     "text": [
      "<class 'int'>\n",
      "<class 'str'>\n"
     ]
    }
   ],
   "source": [
    "miguel = 5\n",
    "print(type(miguel))\n",
    "miguel = 'Olá mundo'\n",
    "print(type(miguel))"
   ]
  },
  {
   "cell_type": "markdown",
   "metadata": {},
   "source": [
    "## 4. Input"
   ]
  },
  {
   "cell_type": "markdown",
   "metadata": {},
   "source": [
    "Agora que já conseguimos salvar os dados e devolver os resultados no nosso código agora precisamos receber dados. Ao utilizar a função `input()` dentro dela você coloca um texto explicando sobre o que o usuário precisa digitar. Assim que o usuário apertar enter o código vai receber o que ele digitou."
   ]
  },
  {
   "cell_type": "code",
   "execution_count": 14,
   "metadata": {},
   "outputs": [
    {
     "name": "stdout",
     "output_type": "stream",
     "text": [
      "35\n"
     ]
    }
   ],
   "source": [
    "a = input('Digite um número: ')\n",
    "print(a)"
   ]
  },
  {
   "cell_type": "markdown",
   "metadata": {},
   "source": [
    "Podemos ver que o código recebeu sem problemas, porém se formos analisar o tipo da variável percebemos que o tipo é string."
   ]
  },
  {
   "cell_type": "code",
   "execution_count": 16,
   "metadata": {},
   "outputs": [
    {
     "name": "stdout",
     "output_type": "stream",
     "text": [
      "<class 'str'>\n"
     ]
    }
   ],
   "source": [
    "print(type(a))"
   ]
  },
  {
   "cell_type": "markdown",
   "metadata": {},
   "source": [
    "Isso pode ser desagradável por as vezes queremos tratar com os dados que o usuário manda, de forma que string nos atrapalha. Portanto podemos usar as funções `int()` e `float()` para transformar a variável dentro de do que está nos parênteses em numéricos."
   ]
  },
  {
   "cell_type": "code",
   "execution_count": 19,
   "metadata": {},
   "outputs": [
    {
     "name": "stdout",
     "output_type": "stream",
     "text": [
      "35\n",
      "<class 'int'>\n"
     ]
    }
   ],
   "source": [
    "a = int(input('Digite um número: '))\n",
    "print(a)\n",
    "print(type(a))"
   ]
  },
  {
   "cell_type": "markdown",
   "metadata": {},
   "source": [
    "## 5. Condicionais"
   ]
  },
  {
   "cell_type": "markdown",
   "metadata": {},
   "source": [
    "Esse é o momento do nosso estudo de python em que vamos adicionar um grau de complexidade aos nossos códigos. Ao lidarmos com dados precisamos, as vezes, que eles satisfaçam condições para que o algoritmo continue. Para isso usaremos os **condicionais**. "
   ]
  },
  {
   "cell_type": "markdown",
   "metadata": {},
   "source": [
    "Relembrando o tipo boleano - `True` e `False` - "
   ]
  }
 ],
 "metadata": {
  "kernelspec": {
   "display_name": "Python 3.10.4 64-bit",
   "language": "python",
   "name": "python3"
  },
  "language_info": {
   "codemirror_mode": {
    "name": "ipython",
    "version": 3
   },
   "file_extension": ".py",
   "mimetype": "text/x-python",
   "name": "python",
   "nbconvert_exporter": "python",
   "pygments_lexer": "ipython3",
   "version": "3.8.10"
  },
  "orig_nbformat": 4,
  "vscode": {
   "interpreter": {
    "hash": "916dbcbb3f70747c44a77c7bcd40155683ae19c65e1c03b4aa3499c5328201f1"
   }
  }
 },
 "nbformat": 4,
 "nbformat_minor": 2
}
