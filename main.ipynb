{
 "cells": [
  {
   "cell_type": "markdown",
   "metadata": {},
   "source": [
    "# Introdução ao Python"
   ]
  },
  {
   "cell_type": "markdown",
   "metadata": {},
   "source": [
    "Olá, esse aqui é um curso utilizando linguagem python dentro desse notebook. Aqui eu irei explicar todo o básico de python para que você possa dar seu ponta pé inicial nessa linguagem. Existem vários locais de excelente consulta, desde a própria documentação do Python ou em um site muito interessante para iniciantes que é o W3Schools ou as vezespesquisar no google é o suficiente."
   ]
  },
  {
   "cell_type": "markdown",
   "metadata": {},
   "source": [
    "1. Intuição\n",
    "2. Print e Comentários\n",
    "3. Variáveis e seus tipos (simples)\n",
    "4. input\n",
    "5. Condicionais\n",
    "6. Loops (While e For)\n",
    "7. Estruturas\n",
    "8. String\n",
    "9. Funções\n",
    "10. Map, Reduce, Compressão de Lista e Lambda\n",
    "11. Pegar Erros (Try e Except).\n",
    "12. Bibliotecas Nativas\n",
    "13. Módulos\n",
    "14. Bibliotecas Não Nativas\n",
    "15. Arquivos\n",
    "16. Orientação à Objeto"
   ]
  },
  {
   "cell_type": "markdown",
   "metadata": {},
   "source": [
    "## 1. Intuição"
   ]
  },
  {
   "cell_type": "markdown",
   "metadata": {},
   "source": [
    "Quando estudamos uma linguagem de programação nós estamos interessados em resolver algum tipo de problema. Esse problema pode vir de diversas formas como por exemplo um cliente. Você irá desenvolver algum tipo de software que irá receber os dados do cliente, esse software irá mandar esses dados para um algoritmo para que irá dar a resposta que será exibida pelo software para o cliente (exemplicidado na Figura 1). Essa é uma ideia básica de como são feitos todos os programas da internet, incluindo sites, IAs, etc."
   ]
  },
  {
   "cell_type": "markdown",
   "metadata": {},
   "source": []
  },
  {
   "cell_type": "markdown",
   "metadata": {},
   "source": [
    "# 2. Print e Comentários"
   ]
  },
  {
   "cell_type": "markdown",
   "metadata": {},
   "source": [
    "Nesse sentido vamos mostrar o primeiro comando do python: `print`. Ele serve para exibir de forma simplória para você alguma coisa. Por exemplo, vamos exibir para você o texto \"Hello World\"!"
   ]
  },
  {
   "cell_type": "code",
   "execution_count": 3,
   "metadata": {},
   "outputs": [
    {
     "name": "stdout",
     "output_type": "stream",
     "text": [
      "Hello World\n"
     ]
    }
   ],
   "source": [
    "print('Hello World')"
   ]
  },
  {
   "cell_type": "markdown",
   "metadata": {},
   "source": [
    "O texto no python deve ser escrito entre aspas, mas iremos detalhar isso nas próximas sessões. Além de devolver texto podemos devolver números e operações com esse números (algo que entraremos em detalhes nas próximas sessões)."
   ]
  },
  {
   "cell_type": "code",
   "execution_count": 2,
   "metadata": {},
   "outputs": [
    {
     "name": "stdout",
     "output_type": "stream",
     "text": [
      "15\n",
      "3\n",
      "35\n"
     ]
    }
   ],
   "source": [
    "print(15)\n",
    "print(1+2)\n",
    "print(5*7)"
   ]
  },
  {
   "cell_type": "markdown",
   "metadata": {},
   "source": [
    "Por fim, quanto mais aumentamos a complexidade do código maior a chance de nos perdermos enquanto trabalhamos nele, além disso esse código pode ser lido por outras pessoas e a depender de como está escrito pode a outra pessoa também se perder. Para ajudar a evitar essas complicações podemos usar comentários no python usando `#`. O que estiver comentado não irá ser executado pelo código, o que você pode se utilizar para explicá-lo ou retirar alguma linha que esteja dando errado."
   ]
  },
  {
   "cell_type": "code",
   "execution_count": 3,
   "metadata": {},
   "outputs": [
    {
     "name": "stdout",
     "output_type": "stream",
     "text": [
      "4\n"
     ]
    }
   ],
   "source": [
    "# Essa parte do código devolve 2 ao quadrado\n",
    "print(2**2)"
   ]
  },
  {
   "cell_type": "markdown",
   "metadata": {},
   "source": [
    "# 3. Variáveis, seus tipos (básico) e operações"
   ]
  },
  {
   "cell_type": "markdown",
   "metadata": {},
   "source": [
    "Um fator importante na construção do código é armazenar valores. Nós precisaremos armazenar dados para que possamos trabalhar com eles ou atualizar eles para podermos ter uma resposta efetiva para o usuário. Portanto podemos utilizar as `variáveis` para fazer esse papel, para armazenar um valor nessa variável é só fazer `nome_da_variavel = valor`, da seguinte forma:"
   ]
  },
  {
   "cell_type": "code",
   "execution_count": 4,
   "metadata": {},
   "outputs": [],
   "source": [
    "miguel = 5"
   ]
  },
  {
   "cell_type": "markdown",
   "metadata": {},
   "source": [
    "Para provar que a variável foi salva regularmente podemos devolver utilizando o `print`:"
   ]
  },
  {
   "cell_type": "code",
   "execution_count": 5,
   "metadata": {},
   "outputs": [
    {
     "name": "stdout",
     "output_type": "stream",
     "text": [
      "5\n"
     ]
    }
   ],
   "source": [
    "print(miguel)"
   ]
  },
  {
   "cell_type": "markdown",
   "metadata": {},
   "source": [
    "Para entender melhor a linha retrasada precisamos entender o conceito do `=`. Apesar de ser o mesmo símbolo de igual na matemática, esse não é a melhor forma de entender o que está acontecendo. A melhor forma de ler esse comando é como \"a variável miguel recebe 5\" ao invés de \"a variável miguel é igual a 5\". Ler dessa forma não parece ser muito vantajoso nesse momento, mas no futuro será."
   ]
  },
  {
   "cell_type": "markdown",
   "metadata": {},
   "source": [
    "Em qualquer linguagem de programação é necessário lidar com diferentes tipos de dados, no python temos os seguintes tipos de variáveis básicas: inteiro, flutuante, boleano e string. O inteiro representa qualquer número inteiro, ou seja, que não tem casa decimal, enquanto que o flutuante representa o tipo de número com casas decimais, o boleano tem dois tipos de valores possíveis `True` ou `False` (que serão mais úteis nas próximas sessões) e o string é o tipo do texto. Segue aqui alguns exemplos:"
   ]
  },
  {
   "cell_type": "code",
   "execution_count": 9,
   "metadata": {},
   "outputs": [
    {
     "name": "stdout",
     "output_type": "stream",
     "text": [
      "167\n",
      "0.3333333333333333\n",
      "True\n",
      "Olá Mundo\n",
      "Olá Mundo\n"
     ]
    }
   ],
   "source": [
    "print(167)\n",
    "print(1/3)\n",
    "print(True)\n",
    "print('Olá Mundo')\n",
    "print(\"Olá Mundo\")"
   ]
  },
  {
   "cell_type": "markdown",
   "metadata": {},
   "source": [
    "Para olharmos o tipo de cada variável podemos utilizar uma função do python chamado `type` (explicaremos no futuro o que são funções). Assim como o `print` você abre parênteses e escreve dentro a variável que você deseja saber o tipo."
   ]
  },
  {
   "cell_type": "code",
   "execution_count": 10,
   "metadata": {},
   "outputs": [
    {
     "name": "stdout",
     "output_type": "stream",
     "text": [
      "<class 'int'>\n",
      "<class 'float'>\n",
      "<class 'bool'>\n",
      "<class 'str'>\n",
      "<class 'str'>\n"
     ]
    }
   ],
   "source": [
    "print(type(167))\n",
    "print(type(1/3))\n",
    "print(type(True))\n",
    "print(type('Olá Mundo'))\n",
    "print(type(\"Olá Mundo\")) # Aqui podemos ver que usar aspas simples ou aspas duplas não fazem diferença no python, a priori"
   ]
  },
  {
   "cell_type": "markdown",
   "metadata": {},
   "source": [
    "Uma importante característica do python é que ele não é tipado, ou seja, você pode mudar em qualquer momento o tipo da sua variável de forma flexível no código. Isso pode ser vantajoso já que economiza no número de variáveis, porém ao aumentar a complexidade do código isso pode acabar dificultando pois uma variável no começo pode acabar trocando tipo e quebrando toda a lógica futura. Por isso é importante comentar seu código e tomar cuidado ao mudar o tipo da variável. Segue um exemplo:"
   ]
  },
  {
   "cell_type": "code",
   "execution_count": 12,
   "metadata": {},
   "outputs": [
    {
     "name": "stdout",
     "output_type": "stream",
     "text": [
      "<class 'int'>\n",
      "<class 'str'>\n"
     ]
    }
   ],
   "source": [
    "miguel = 5\n",
    "print(type(miguel))\n",
    "miguel = 'Olá mundo'\n",
    "print(type(miguel))"
   ]
  },
  {
   "cell_type": "markdown",
   "metadata": {},
   "source": []
  }
 ],
 "metadata": {
  "kernelspec": {
   "display_name": "Python 3.10.4 64-bit",
   "language": "python",
   "name": "python3"
  },
  "language_info": {
   "codemirror_mode": {
    "name": "ipython",
    "version": 3
   },
   "file_extension": ".py",
   "mimetype": "text/x-python",
   "name": "python",
   "nbconvert_exporter": "python",
   "pygments_lexer": "ipython3",
   "version": "3.10.4"
  },
  "orig_nbformat": 4,
  "vscode": {
   "interpreter": {
    "hash": "916dbcbb3f70747c44a77c7bcd40155683ae19c65e1c03b4aa3499c5328201f1"
   }
  }
 },
 "nbformat": 4,
 "nbformat_minor": 2
}
