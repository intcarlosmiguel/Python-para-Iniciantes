{
 "cells": [
  {
   "cell_type": "markdown",
   "metadata": {},
   "source": [
    "# Introdução ao Python"
   ]
  },
  {
   "cell_type": "markdown",
   "metadata": {},
   "source": [
    "Olá, esse aqui é um curso utilizando linguagem python dentro desse notebook. Aqui eu irei explicar todo o básico de python para que você possa dar seu ponta pé inicial nessa linguagem. Existem vários locais de excelente consulta, desde a própria documentação do Python ou em um site muito interessante para iniciantes que é o W3Schools ou as vezes pesquisar no google é o suficiente."
   ]
  },
  {
   "cell_type": "markdown",
   "metadata": {},
   "source": [
    "1. Básico\n",
    "* Intuição\n",
    "* Print\n",
    "* Comentários\n",
    "* Variáveis\n",
    "* Tipos Básicos\n",
    "* Operadores Numéricos\n",
    "* Input\n",
    "\n",
    "2. Intermediário\n",
    "* Operadores Condicionais\n",
    "* Estruturas Condicionais\n",
    "* Loops (While e For)\n",
    "* Estruturas\n",
    "* String\n",
    "* Funções\n",
    "\n",
    "3. Avançado\n",
    "* Map, Reduce, Compressão de Lista e Lambda\n",
    "* Operador Ternário\n",
    "* Pegar Erros (Try e Except).\n",
    "* Bibliotecas Nativas\n",
    "* Módulos\n",
    "* Bibliotecas Não Nativas\n",
    "* Arquivos\n",
    "* Orientação à Objeto"
   ]
  },
  {
   "cell_type": "markdown",
   "metadata": {},
   "source": [
    "## Intuição"
   ]
  },
  {
   "cell_type": "markdown",
   "metadata": {},
   "source": [
    "Quando estudamos uma linguagem de programação nós estamos interessados em resolver algum tipo de problema. Esse problema pode vir de diversas formas como por exemplo um cliente. Você irá desenvolver algum tipo de software que irá receber os dados do cliente, esse software irá mandar esses dados para um algoritmo para que irá dar a resposta que será exibida pelo software para o cliente (exemplicidado na Figura 1). Essa é uma ideia básica de como são feitos todos os programas da internet, incluindo sites, IAs, etc."
   ]
  },
  {
   "cell_type": "markdown",
   "metadata": {},
   "source": [
    "![alt text](./imagem1.png \"Title\")"
   ]
  },
  {
   "cell_type": "markdown",
   "metadata": {},
   "source": [
    "# Print"
   ]
  },
  {
   "cell_type": "markdown",
   "metadata": {},
   "source": [
    "Nesse sentido vamos mostrar o primeiro comando do python: `print`. Ele serve para exibir de forma simplória para você alguma coisa. Por exemplo, vamos exibir para você o texto \"Hello World!\". Esse comando é chamado no python de `função`, que terá uma seção própria. Nessa função você irá escrever o nome da função e colocar entre parêntes `print()` e dentro do parênteses você vai inserir o que deve ser exibido como por exemplo:"
   ]
  },
  {
   "cell_type": "code",
   "execution_count": 3,
   "metadata": {},
   "outputs": [
    {
     "name": "stdout",
     "output_type": "stream",
     "text": [
      "Hello World\n"
     ]
    }
   ],
   "source": [
    "print('Hello World')"
   ]
  },
  {
   "cell_type": "markdown",
   "metadata": {},
   "source": [
    "O texto no python deve ser escrito entre aspas, mas iremos detalhar isso nas próximas sessões. Além de devolver texto podemos devolver números e operações com esse números (algo que entraremos em detalhes nas próximas sessões)."
   ]
  },
  {
   "cell_type": "code",
   "execution_count": 2,
   "metadata": {},
   "outputs": [
    {
     "name": "stdout",
     "output_type": "stream",
     "text": [
      "15\n",
      "3\n",
      "35\n"
     ]
    }
   ],
   "source": [
    "print(15)\n",
    "print(1+2)\n",
    "print(5*7)"
   ]
  },
  {
   "cell_type": "markdown",
   "metadata": {},
   "source": [
    "Também podemos exibir mais de um tipo de resultado com o `print`, para separar cada resultado será utilizado uma vírgula, como por exemplo:"
   ]
  },
  {
   "cell_type": "code",
   "execution_count": 1,
   "metadata": {},
   "outputs": [
    {
     "name": "stdout",
     "output_type": "stream",
     "text": [
      "A soma de 5 com 3 é 8\n"
     ]
    }
   ],
   "source": [
    "print('A soma de 5 com 3 é', 5+3)"
   ]
  },
  {
   "cell_type": "markdown",
   "metadata": {},
   "source": [
    "## Comentários"
   ]
  },
  {
   "cell_type": "markdown",
   "metadata": {},
   "source": [
    "Por fim, quanto mais aumentamos a complexidade do código maior a chance de nos perdermos enquanto trabalhamos nele, além disso esse código pode ser lido por outras pessoas e a depender de como está escrito pode a outra pessoa também se perder. Para ajudar a evitar essas complicações podemos usar comentários no python usando `#`. O que estiver comentado não irá ser executado pelo código, o que você pode se utilizar para explicá-lo ou retirar alguma linha que esteja dando errado."
   ]
  },
  {
   "cell_type": "code",
   "execution_count": 3,
   "metadata": {},
   "outputs": [
    {
     "name": "stdout",
     "output_type": "stream",
     "text": [
      "4\n"
     ]
    }
   ],
   "source": [
    "# Essa parte do código devolve 2 ao quadrado\n",
    "print(2**2)"
   ]
  },
  {
   "cell_type": "markdown",
   "metadata": {},
   "source": [
    "# Variáveis"
   ]
  },
  {
   "cell_type": "markdown",
   "metadata": {},
   "source": [
    "Um fator importante na construção do código é armazenar valores. Nós precisaremos armazenar dados para que possamos trabalhar com eles ou atualizar eles para podermos ter uma resposta efetiva para o usuário. Portanto podemos utilizar as `variáveis` para fazer esse papel, para armazenar um valor nessa variável é só fazer `nome_da_variavel = valor`, da seguinte forma:"
   ]
  },
  {
   "cell_type": "code",
   "execution_count": 4,
   "metadata": {},
   "outputs": [],
   "source": [
    "miguel = 5"
   ]
  },
  {
   "cell_type": "markdown",
   "metadata": {},
   "source": [
    "Para provar que a variável foi salva regularmente podemos devolver utilizando o `print`:"
   ]
  },
  {
   "cell_type": "code",
   "execution_count": 5,
   "metadata": {},
   "outputs": [
    {
     "name": "stdout",
     "output_type": "stream",
     "text": [
      "5\n"
     ]
    }
   ],
   "source": [
    "print(miguel)"
   ]
  },
  {
   "cell_type": "markdown",
   "metadata": {},
   "source": [
    "Para entender melhor a linha retrasada precisamos entender o conceito do `=`. Apesar de ser o mesmo símbolo de igual na matemática, esse não é a melhor forma de entender o que está acontecendo. A melhor forma de ler esse comando é como \"a variável miguel recebe 5\" ao invés de \"a variável miguel é igual a 5\". Ler dessa forma não parece ser muito vantajoso nesse momento, mas no futuro será."
   ]
  },
  {
   "cell_type": "markdown",
   "metadata": {},
   "source": [
    "Ao escrevermos um nome de variável no python - e em grande parte das linguagens de programação - existem regras na escrita, caso você escreva alguma variável de forma errada o python apresentará um erro para você o chamado erro de **sintaxe**. As regras de escrita de python são:\n",
    "\n",
    "1. Iniciar sempre com letras, jamais com números ou caracteres especiais (exceto o subtraço \"_\");"
   ]
  },
  {
   "cell_type": "code",
   "execution_count": 2,
   "metadata": {},
   "outputs": [
    {
     "ename": "SyntaxError",
     "evalue": "invalid syntax (<ipython-input-2-f90de815de8e>, line 1)",
     "output_type": "error",
     "traceback": [
      "\u001b[0;36m  File \u001b[0;32m\"<ipython-input-2-f90de815de8e>\"\u001b[0;36m, line \u001b[0;32m1\u001b[0m\n\u001b[0;31m    1miguel = 1\u001b[0m\n\u001b[0m     ^\u001b[0m\n\u001b[0;31mSyntaxError\u001b[0m\u001b[0;31m:\u001b[0m invalid syntax\n"
     ]
    }
   ],
   "source": [
    "1miguel = 1"
   ]
  },
  {
   "cell_type": "code",
   "execution_count": 3,
   "metadata": {},
   "outputs": [
    {
     "name": "stdout",
     "output_type": "stream",
     "text": [
      "5\n"
     ]
    }
   ],
   "source": [
    "miguel = 5\n",
    "print(miguel)"
   ]
  },
  {
   "cell_type": "code",
   "execution_count": 4,
   "metadata": {},
   "outputs": [
    {
     "name": "stdout",
     "output_type": "stream",
     "text": [
      "8\n"
     ]
    }
   ],
   "source": [
    "_miguel = 5+3\n",
    "print(_miguel)"
   ]
  },
  {
   "cell_type": "code",
   "execution_count": 11,
   "metadata": {},
   "outputs": [
    {
     "name": "stdout",
     "output_type": "stream",
     "text": [
      "1\n"
     ]
    }
   ],
   "source": [
    "miguel1 = 1 # É possível utilizar números no meio ou no final, nunca no começo\n",
    "print(miguel1)"
   ]
  },
  {
   "cell_type": "markdown",
   "metadata": {},
   "source": [
    "2. Há diferença entre variáveis com letras maiúsculas e minúsculas;"
   ]
  },
  {
   "cell_type": "code",
   "execution_count": 5,
   "metadata": {},
   "outputs": [
    {
     "name": "stdout",
     "output_type": "stream",
     "text": [
      "5 8\n"
     ]
    }
   ],
   "source": [
    "miguel = 5\n",
    "Miguel = 8\n",
    "print(miguel,Miguel)"
   ]
  },
  {
   "cell_type": "markdown",
   "metadata": {},
   "source": [
    "3. Não utilizar espaços em caso de nomes compostos; "
   ]
  },
  {
   "cell_type": "code",
   "execution_count": 6,
   "metadata": {},
   "outputs": [
    {
     "ename": "SyntaxError",
     "evalue": "invalid syntax (<ipython-input-6-aa74811bd8f2>, line 1)",
     "output_type": "error",
     "traceback": [
      "\u001b[0;36m  File \u001b[0;32m\"<ipython-input-6-aa74811bd8f2>\"\u001b[0;36m, line \u001b[0;32m1\u001b[0m\n\u001b[0;31m    mig uel = 5\u001b[0m\n\u001b[0m        ^\u001b[0m\n\u001b[0;31mSyntaxError\u001b[0m\u001b[0;31m:\u001b[0m invalid syntax\n"
     ]
    }
   ],
   "source": [
    "mig uel = 5"
   ]
  },
  {
   "cell_type": "code",
   "execution_count": 12,
   "metadata": {},
   "outputs": [
    {
     "name": "stdout",
     "output_type": "stream",
     "text": [
      "5\n"
     ]
    }
   ],
   "source": [
    "mig_uel = 5 # O recomendado é usar \"_\" como espaço\n",
    "print(mig_uel)"
   ]
  },
  {
   "cell_type": "markdown",
   "metadata": {},
   "source": [
    "4. Não utilizar palavras reservadas da linguagem para dar nome as variáveis; "
   ]
  },
  {
   "cell_type": "code",
   "execution_count": 9,
   "metadata": {},
   "outputs": [
    {
     "ename": "SyntaxError",
     "evalue": "invalid syntax (<ipython-input-9-0e0c90d245a5>, line 1)",
     "output_type": "error",
     "traceback": [
      "\u001b[0;36m  File \u001b[0;32m\"<ipython-input-9-0e0c90d245a5>\"\u001b[0;36m, line \u001b[0;32m1\u001b[0m\n\u001b[0;31m    in = 5\u001b[0m\n\u001b[0m    ^\u001b[0m\n\u001b[0;31mSyntaxError\u001b[0m\u001b[0;31m:\u001b[0m invalid syntax\n"
     ]
    }
   ],
   "source": [
    "in = 5"
   ]
  },
  {
   "cell_type": "markdown",
   "metadata": {},
   "source": [
    "**OBS**: Ao escrever nome de variáveis é recomendado que seja escrito de forma que relacione a variável com o que está escrito, por exemplo se você deseja calcular alguma velocidade a variável que for guardar o valor deve se chamar `velocidade` e não `v` ou `vc`. Isso ajuda muito na leitura do código. Além disso existe um padrão para o nome de variáveis no python chamado **snake_case** na qual você escreve tudo em minúsculo e caso tenha espaço utilizar o \"_\", por exemplo: `velocidade_do_aviao` e não `VelocidadeDoAviao`."
   ]
  },
  {
   "cell_type": "markdown",
   "metadata": {},
   "source": [
    "## Tipos de Variáveis"
   ]
  },
  {
   "cell_type": "markdown",
   "metadata": {},
   "source": [
    "Em qualquer linguagem de programação é necessário lidar com diferentes tipos de dados, no python temos os seguintes tipos de variáveis básicas: inteiro, flutuante, boleano e string. O inteiro representa qualquer número inteiro, ou seja, que não tem casa decimal, enquanto que o flutuante representa o tipo de número com casas decimais, o boleano tem dois tipos de valores possíveis `True` ou `False` (que serão mais úteis nas próximas sessões) e o string é o tipo do texto. Segue aqui alguns exemplos:"
   ]
  },
  {
   "cell_type": "code",
   "execution_count": 9,
   "metadata": {},
   "outputs": [
    {
     "name": "stdout",
     "output_type": "stream",
     "text": [
      "167\n",
      "0.3333333333333333\n",
      "True\n",
      "Olá Mundo\n",
      "Olá Mundo\n"
     ]
    }
   ],
   "source": [
    "print(167)\n",
    "print(1/3)\n",
    "print(True)\n",
    "print('Olá Mundo')\n",
    "print(\"Olá Mundo\")"
   ]
  },
  {
   "cell_type": "markdown",
   "metadata": {},
   "source": [
    "Para olharmos o tipo de cada variável podemos utilizar uma função do python chamado `type` (explicaremos no futuro o que são funções). Assim como o `print` você abre parênteses e escreve dentro a variável que você deseja saber o tipo."
   ]
  },
  {
   "cell_type": "code",
   "execution_count": 10,
   "metadata": {},
   "outputs": [
    {
     "name": "stdout",
     "output_type": "stream",
     "text": [
      "<class 'int'>\n",
      "<class 'float'>\n",
      "<class 'bool'>\n",
      "<class 'str'>\n",
      "<class 'str'>\n"
     ]
    }
   ],
   "source": [
    "print(type(167))\n",
    "print(type(1/3))\n",
    "print(type(True))\n",
    "print(type('Olá Mundo'))\n",
    "print(type(\"Olá Mundo\")) # Aqui podemos ver que usar aspas simples ou aspas duplas não fazem diferença no python, a priori"
   ]
  },
  {
   "cell_type": "markdown",
   "metadata": {},
   "source": [
    "Uma importante característica do python é que ele não é tipado, ou seja, você pode mudar em qualquer momento o tipo da sua variável de forma flexível no código. Isso pode ser vantajoso já que economiza no número de variáveis, porém ao aumentar a complexidade do código isso pode acabar dificultando pois uma variável no começo pode acabar trocando tipo e quebrando toda a lógica futura. Por isso é importante comentar seu código e tomar cuidado ao mudar o tipo da variável. Segue um exemplo:"
   ]
  },
  {
   "cell_type": "code",
   "execution_count": 12,
   "metadata": {},
   "outputs": [
    {
     "name": "stdout",
     "output_type": "stream",
     "text": [
      "<class 'int'>\n",
      "<class 'str'>\n"
     ]
    }
   ],
   "source": [
    "miguel = 5\n",
    "print(type(miguel))\n",
    "miguel = 'Olá mundo'\n",
    "print(type(miguel))"
   ]
  },
  {
   "cell_type": "markdown",
   "metadata": {},
   "source": [
    "## Operadores Numéricos"
   ]
  },
  {
   "cell_type": "markdown",
   "metadata": {},
   "source": [
    "## Input"
   ]
  },
  {
   "cell_type": "markdown",
   "metadata": {},
   "source": [
    "Agora que já conseguimos salvar os dados e devolver os resultados no nosso código agora precisamos receber dados. Ao utilizar a função `input()` dentro dela você coloca um texto explicando sobre o que o usuário precisa digitar. Assim que o usuário apertar enter o código vai receber o que ele digitou."
   ]
  },
  {
   "cell_type": "code",
   "execution_count": 14,
   "metadata": {},
   "outputs": [
    {
     "name": "stdout",
     "output_type": "stream",
     "text": [
      "35\n"
     ]
    }
   ],
   "source": [
    "a = input('Digite um número: ')\n",
    "print(a)"
   ]
  },
  {
   "cell_type": "markdown",
   "metadata": {},
   "source": [
    "Podemos ver que o código recebeu sem problemas, porém se formos analisar o tipo da variável percebemos que o tipo é string."
   ]
  },
  {
   "cell_type": "code",
   "execution_count": 16,
   "metadata": {},
   "outputs": [
    {
     "name": "stdout",
     "output_type": "stream",
     "text": [
      "<class 'str'>\n"
     ]
    }
   ],
   "source": [
    "print(type(a))"
   ]
  },
  {
   "cell_type": "markdown",
   "metadata": {},
   "source": [
    "Isso pode ser desagradável por as vezes queremos tratar com os dados que o usuário manda, de forma que string nos atrapalha. Portanto podemos usar as funções `int()` e `float()` para transformar a variável dentro de do que está nos parênteses em numéricos."
   ]
  },
  {
   "cell_type": "code",
   "execution_count": 19,
   "metadata": {},
   "outputs": [
    {
     "name": "stdout",
     "output_type": "stream",
     "text": [
      "35\n",
      "<class 'int'>\n"
     ]
    }
   ],
   "source": [
    "a = int(input('Digite um número: '))\n",
    "print(a)\n",
    "print(type(a))"
   ]
  },
  {
   "cell_type": "markdown",
   "metadata": {},
   "source": [
    "## Operadores Condicionais"
   ]
  },
  {
   "cell_type": "markdown",
   "metadata": {},
   "source": [
    "Esse é o momento do nosso estudo de python em que vamos adicionar um grau de complexidade aos nossos códigos. Ao lidarmos com dados precisamos, as vezes, que eles satisfaçam condições para que o algoritmo continue. Para isso usaremos os **condicionais**. "
   ]
  },
  {
   "cell_type": "markdown",
   "metadata": {},
   "source": [
    "Os condicionais são os nossos operadores de comparação, se essa comparação for satisfeita será retornado `True`, caso contrário `False`. Na linguagem python temos diversas formas de fazermos comparação, nessa seção iremos focar nos operadores:"
   ]
  },
  {
   "cell_type": "markdown",
   "metadata": {},
   "source": [
    "1. `==`. Esse é o operador que compara dois objetos e caso eles sejam iguais ele retorna `True`. Esse operador é o que mais se aproxima do \"=\" da matemática. Esse operador também é utilizado para comparar strings."
   ]
  },
  {
   "cell_type": "code",
   "execution_count": 9,
   "metadata": {},
   "outputs": [
    {
     "name": "stdout",
     "output_type": "stream",
     "text": [
      "False\n",
      "True\n",
      "False\n",
      "True\n",
      "False\n",
      "True\n"
     ]
    }
   ],
   "source": [
    "print(5 == 6)\n",
    "print(6 == 6)\n",
    "a = 8\n",
    "print(a == 7)\n",
    "print(a == 8)\n",
    "print('numero' == 'Numero')\n",
    "print('numero' == 'numero')"
   ]
  },
  {
   "cell_type": "markdown",
   "metadata": {},
   "source": [
    "2. `!=`. Esse é o operador que compara dois objetos e caso eles sejam diferentes ele retorna `True`.Esse operador é o que mais se aproxima do \"=\" da matemática. Esse operador também é utilizado para comparar strings."
   ]
  },
  {
   "cell_type": "code",
   "execution_count": 10,
   "metadata": {},
   "outputs": [
    {
     "name": "stdout",
     "output_type": "stream",
     "text": [
      "True\n",
      "False\n",
      "True\n",
      "False\n",
      "True\n",
      "False\n"
     ]
    }
   ],
   "source": [
    "print(5 != 6)\n",
    "print(6 != 6)\n",
    "a = 8\n",
    "print(a != 7)\n",
    "print(a != 8)\n",
    "print('numero' != 'Numero')\n",
    "print('numero' != 'numero')"
   ]
  },
  {
   "cell_type": "markdown",
   "metadata": {},
   "source": [
    "3. `>`. Esse é o operador que compara dois **números** e caso o número da esquerda seja maior que o da direita então ele retorna `True`."
   ]
  },
  {
   "cell_type": "code",
   "execution_count": 7,
   "metadata": {},
   "outputs": [
    {
     "name": "stdout",
     "output_type": "stream",
     "text": [
      "False\n",
      "False\n",
      "True\n",
      "True\n",
      "False\n",
      "True\n"
     ]
    }
   ],
   "source": [
    "print(5 > 6)\n",
    "print(6 > 6)\n",
    "print(6 > 2)\n",
    "a = 8\n",
    "print(a > 7)\n",
    "print(a > 8)\n",
    "print(a > 2)"
   ]
  },
  {
   "cell_type": "markdown",
   "metadata": {},
   "source": [
    "4. `<`. Esse é o operador que compara dois **números** e caso o número da esquerda seja menor que o da direita então ele retorna `True`."
   ]
  },
  {
   "cell_type": "code",
   "execution_count": 11,
   "metadata": {},
   "outputs": [
    {
     "name": "stdout",
     "output_type": "stream",
     "text": [
      "True\n",
      "False\n",
      "False\n",
      "False\n",
      "False\n",
      "False\n"
     ]
    }
   ],
   "source": [
    "print(5 < 6)\n",
    "print(6 < 6)\n",
    "print(6 < 2)\n",
    "a = 8\n",
    "print(a < 7)\n",
    "print(a < 8)\n",
    "print(a < 2)"
   ]
  },
  {
   "cell_type": "markdown",
   "metadata": {},
   "source": [
    "5. `=>`. Esse é o operador que compara dois **números** e caso o número da esquerda seja menor **ou igual** que o da direita então ele retorna `True`."
   ]
  },
  {
   "cell_type": "code",
   "execution_count": 13,
   "metadata": {},
   "outputs": [
    {
     "name": "stdout",
     "output_type": "stream",
     "text": [
      "False\n",
      "True\n",
      "True\n",
      "True\n",
      "True\n",
      "True\n"
     ]
    }
   ],
   "source": [
    "print(5 >= 6)\n",
    "print(6 >= 6)\n",
    "print(6 >= 2)\n",
    "a = 8\n",
    "print(a >= 7)\n",
    "print(a >= 8)\n",
    "print(a >= 2)"
   ]
  },
  {
   "cell_type": "markdown",
   "metadata": {},
   "source": [
    "6. `<=`. Esse é o operador que compara dois **números** e caso o número da esquerda seja menor **ou igual** que o da direita então ele retorna `True`."
   ]
  },
  {
   "cell_type": "code",
   "execution_count": 14,
   "metadata": {},
   "outputs": [
    {
     "name": "stdout",
     "output_type": "stream",
     "text": [
      "True\n",
      "True\n",
      "False\n",
      "False\n",
      "True\n",
      "False\n"
     ]
    }
   ],
   "source": [
    "print(5 <= 6)\n",
    "print(6 <= 6)\n",
    "print(6 <= 2)\n",
    "a = 8\n",
    "print(a <= 7)\n",
    "print(a <= 8)\n",
    "print(a <= 2)"
   ]
  },
  {
   "cell_type": "markdown",
   "metadata": {},
   "source": [
    "7. `not` é um operador extra que é usado antes e junto aos operadores anteriores. Ele inverte o resultado de um operador de comparação, se o resultado seria `True` é retornado `False` e vice-versa."
   ]
  },
  {
   "cell_type": "code",
   "execution_count": 16,
   "metadata": {},
   "outputs": [
    {
     "name": "stdout",
     "output_type": "stream",
     "text": [
      "False\n",
      "False\n",
      "True\n",
      "True\n",
      "False\n",
      "False\n"
     ]
    }
   ],
   "source": [
    "print(not 5 <= 6)\n",
    "print(not 6 <= 6)\n",
    "print(not 6 < 2)\n",
    "a = 8\n",
    "print(not a <= 7)\n",
    "print(not a == 8)\n",
    "print(not a > 2)"
   ]
  },
  {
   "cell_type": "markdown",
   "metadata": {},
   "source": [
    "Antes de passar para os próximos operadores quero aqui relembrar um conceito chamado de **Tabela Verdade**. Essa tabela é muito usada na matemática na construção da Lógica e da Matemática. Dadas duas proposições `p` e `q` queremos entender a validade lógica de uma proposição e para isso utilizaremos a Tabela Verdade. Ela está representada na Figura 2 na qual `~p` representa a negação de `p`."
   ]
  },
  {
   "cell_type": "markdown",
   "metadata": {},
   "source": [
    "![alt text](./imgem2.jpg \"Title\")"
   ]
  },
  {
   "cell_type": "markdown",
   "metadata": {},
   "source": [
    "Podemos considerar o seguinte exemplo: Um sorveteiro vende dois tipos de sorvete: o de chocolate e o de morango. Ele vende o de chocolate nas Terças, Quartas e Sábados e ele vende o de Morango nas Terças, Quintas, Sábados e Domingos e Segunda ele não trabalha. A sua mãe lhe dá dinheiro todos os dias para comprar sorvete para ela e para cada semana no mês ela vai fazer os seguintes pedidos:\n",
    "\n",
    "1. Se tiver sorvete de chocolate, compre um de chocolate para mim.\n",
    "2. Se tiver sorvete de morango, compre um de morango para mim.\n",
    "3. Se tiver sorvete de chocolate ou de morango, compre um de cholocate para mim.\n",
    "4. Se tiver sorvete de chocolate e de morango, compre o de morango.\n",
    "\n",
    "Na primeira semana você irá comprar chocolate na Terça, Quarta e Sábado que são os dias que têm chocolate.\\\n",
    "Na segunda semana você irá comprar morango na Terça, Quinta, Sábado e Domingo que são os dias que têm morango.\\\n",
    "Na terceira semana você vai comprar todos os dias menos na Segunda, que é o dia que o sorveteiro não aparece, em todos os outros ele está vendendo ou chocolate ou morango.\\\n",
    "Na quarta semana você só vai comprar em dois dias, na Terça e no Sábado que é quando ele vende os dois no mesmo dia."
   ]
  },
  {
   "cell_type": "markdown",
   "metadata": {},
   "source": [
    "Agora que você entendeu como funciona a tabela verdade e já apresentamos o operador `~` em código, vamos apresentar os operadores de `ou` e `e`."
   ]
  },
  {
   "cell_type": "markdown",
   "metadata": {},
   "source": [
    "8. `&` ou `and` é o operador que representa o **e** na tabela verdade. Apenas se as duas sentenças forem verdadeiras que ele devolve `True`."
   ]
  },
  {
   "cell_type": "code",
   "execution_count": 4,
   "metadata": {},
   "outputs": [
    {
     "name": "stdout",
     "output_type": "stream",
     "text": [
      "False\n",
      "False\n",
      "False\n",
      "False\n",
      "True\n",
      "True\n"
     ]
    }
   ],
   "source": [
    "a = 10\n",
    "b = 20\n",
    "print((a==5 & b==20))\n",
    "print((a==5 and b==20))\n",
    "print((a==10 & b==2))\n",
    "print((a==10 and b==2))\n",
    "print(((a==10) & (b==20)))\n",
    "print((a==10 and b==20))"
   ]
  },
  {
   "cell_type": "markdown",
   "metadata": {},
   "source": [
    "**OBS**: Se for utilizar o `&` utilize as duas condições entre parênteses."
   ]
  },
  {
   "cell_type": "markdown",
   "metadata": {},
   "source": [
    "9. `|` ou `or` é o operador que representa o **ou** na tabela verdade. Apenas se uma sentença for verdadeira que devolve `True`."
   ]
  },
  {
   "cell_type": "code",
   "execution_count": 8,
   "metadata": {},
   "outputs": [
    {
     "name": "stdout",
     "output_type": "stream",
     "text": [
      "True\n",
      "True\n",
      "True\n",
      "False\n",
      "True\n",
      "True\n"
     ]
    }
   ],
   "source": [
    "a = 10\n",
    "b = 20\n",
    "print(((a==5) | (b==20)))\n",
    "print((a==5 or b==20))\n",
    "print(( (a==10) | (b==2) ))\n",
    "print(( (a==3) or (b==2) ))\n",
    "print(((a==10) | (b==20)))\n",
    "print((a==10 or b==20))"
   ]
  },
  {
   "cell_type": "markdown",
   "metadata": {},
   "source": [
    "**OBS**: Se for utilizar o `|` utilize as duas condições entre parênteses."
   ]
  },
  {
   "cell_type": "markdown",
   "metadata": {},
   "source": [
    "## Estruturas de comparação"
   ]
  },
  {
   "cell_type": "markdown",
   "metadata": {},
   "source": [
    "Certo, agora sabemos como \"gerar\" comparações e o que elas retornam. Agora como vamos introduzir esses valores nos nossos códigos? Para fazermos isso usaremos três estruturas: `if`, `else` e `elif`. Quando usamos a função `if()` colocamos entre parênteses a nossa condição e logo depois de fecharmos o nosso parênteses temos que adicionar `:` e a partir daí todo código será executado somente se a condição, que está dentro do `if`, for atendida. A partir de agora devemos estar atentos a um conceito importante que será introduzido aqui e nas próximas sessões será retomado que é a **identação**. O código que irá acontecer se a condição for atendida deve estar com **tab** para diferenciar do código que será executado se a condição não for atendida. Isso será bastante presente daqui para frente e toda vez que temos uma estrutura que precisa de identação então será adicionado um `tab` a mais."
   ]
  },
  {
   "cell_type": "code",
   "execution_count": 9,
   "metadata": {},
   "outputs": [
    {
     "name": "stdout",
     "output_type": "stream",
     "text": [
      "a é menor que 10\n"
     ]
    }
   ],
   "source": [
    "a = 5\n",
    "if(a<10):\n",
    "    print(\"a é menor que 10\")"
   ]
  },
  {
   "cell_type": "code",
   "execution_count": 17,
   "metadata": {},
   "outputs": [
    {
     "name": "stdout",
     "output_type": "stream",
     "text": [
      "20  é divisível por 2\n",
      "20  é divisível por 5\n"
     ]
    }
   ],
   "source": [
    "a = 20\n",
    "if(a%2 == 0):\n",
    "    print(a,' é divisível por 2')\n",
    "    # Nesse caso esse segundo if só será executado se o primeiro for também.\n",
    "    if(a%5 == 0):\n",
    "        print(a,' é divisível por 5')"
   ]
  },
  {
   "cell_type": "markdown",
   "metadata": {},
   "source": [
    "Conseguimos agora, dada uma condição, executar um código que só acontece se a condição for satisfeita. Porém pode ser do nosso interesse executar um código quando a condição não é satisfeita. Para esse tipo de coisa utilziamos o `else`. O `else` sempre tem que vir depois do `if()` e ele não pode ter uma condição entre parêntese, pois ele já vai executar se a condição do `if` não for satisfeita."
   ]
  },
  {
   "cell_type": "code",
   "execution_count": 16,
   "metadata": {},
   "outputs": [
    {
     "name": "stdout",
     "output_type": "stream",
     "text": [
      "Esse número é ímpar.\n",
      "Esse print vai aparecer independente de qual condição seja atendida.\n"
     ]
    }
   ],
   "source": [
    "a = 25\n",
    "if(a%2 == 0):\n",
    "    print(\"Esse número é par.\")\n",
    "else:\n",
    "    print(\"Esse número é ímpar.\")\n",
    "print(\"Esse print vai aparecer independente de qual condição seja atendida.\")"
   ]
  },
  {
   "cell_type": "markdown",
   "metadata": {},
   "source": [
    "Para introduzir a ideia sobre o `elif` precisamos fazer uma seguinte exemplo:"
   ]
  },
  {
   "cell_type": "markdown",
   "metadata": {},
   "source": [
    "### Exemplo 1) Escreva um código que você receba do usuário um número entre 1 e 7 e de acordo com o número que ele digitou devolva um dia da semana. No caso 1 seria Domingo, 2 seria Segunda e assim por diante."
   ]
  },
  {
   "cell_type": "markdown",
   "metadata": {},
   "source": [
    "Existem 2 possíveis formas de resolver esse problema, temos:"
   ]
  },
  {
   "cell_type": "code",
   "execution_count": 18,
   "metadata": {},
   "outputs": [
    {
     "name": "stdout",
     "output_type": "stream",
     "text": [
      "É terça!\n"
     ]
    }
   ],
   "source": [
    "dia = int(input('Digite um número entr 1 e 7'))\n",
    "if(dia==1):\n",
    "    print('É domingo!')\n",
    "if(dia==2):\n",
    "    print('É segunda!')\n",
    "if(dia==3):\n",
    "    print('É terça!')\n",
    "if(dia==4):\n",
    "    print('É quarta!')\n",
    "if(dia==5):\n",
    "    print('É quinta!')\n",
    "if(dia==6):\n",
    "    print('É sexta!')\n",
    "if(dia==7):\n",
    "    print('É sábado!')"
   ]
  },
  {
   "cell_type": "code",
   "execution_count": 19,
   "metadata": {},
   "outputs": [
    {
     "name": "stdout",
     "output_type": "stream",
     "text": [
      "É terça!\n"
     ]
    }
   ],
   "source": [
    "dia = int(input('Digite um número entr 1 e 7'))\n",
    "if(dia==1):\n",
    "    print('É domingo!')\n",
    "else:\n",
    "    if(dia==2):\n",
    "        print('É segunda!')\n",
    "    else:\n",
    "        if(dia==3):\n",
    "            print('É terça!')\n",
    "        else:\n",
    "            if(dia==4):\n",
    "                print('É quarta!')\n",
    "            else:\n",
    "                if(dia==5):\n",
    "                    print('É quinta!')\n",
    "                else:\n",
    "                    if(dia==6):\n",
    "                        print('É sexta!')\n",
    "                    else:\n",
    "                        if(dia==7):\n",
    "                            print('É sábado!')"
   ]
  },
  {
   "cell_type": "markdown",
   "metadata": {},
   "source": [
    "Essas duas formas de resolver a questão apresentam vantagens e bastante desvantagens. Ao executarmos percebemos que os dois resolvem o nosso problema, mas por detrás dos panos podemos encontrar problemas com eles. O primeiro é mais legível que o segundo, no entanto ele trás consigo um problema não trivial, digamos que você ao escrever o código colocou na 3ª condição um `dia += 1` o que irá acontecer é que logo depois de sair da identação do if (também chamada de **bloco**) o código irá checar a 4ª condição e ela estará sendo atendida e ele irá aparecer um print adicional que não deveria. Para esse exemplo não parece fazer sentido, porém ao escrever códigos mais complexos esse tipo de problema pode aparecer de você precisar alterar a variável que esá sendo checada."
   ]
  },
  {
   "cell_type": "markdown",
   "metadata": {},
   "source": [
    "Então o código 2 é a melhor solução? Não exatamente. Além da compreensão que fica péssima no código 2 precisamos fazer várias checagens até chegar onde o coigo deva parar e isso é um problema também do código 1. Logicamente esse custo computacional é pouco para o simples código que construímos, porém para simulações muito maiores é necessário tomar bastante cuidado. Por fim, caso queirámos adicionar uma nova condição ou aumentarmos os códigos dentro das condições irá piorar ainda mais a compreensão."
   ]
  },
  {
   "cell_type": "markdown",
   "metadata": {},
   "source": [
    "Nesse sentido vamos introduzir o `elif`. Ele vai resolver nosso problema de compreensão e de tempo. Nossa primeira condição continua sendo o `if()` e caso ele não seja atendido vamos introduzir o `elif()` dentro dos cochetes vamos introduzir uma nova condição que será checada **caso a checagem anteiror não for satisfeita** e o `elif()` é feito fora do bloco do `if()` e caso esse `elif()` não seja atendido colocamos mais até o último caso em que nenhuma das condições não foi atendidas e colocamos o `else`."
   ]
  },
  {
   "cell_type": "code",
   "execution_count": 22,
   "metadata": {},
   "outputs": [
    {
     "name": "stdout",
     "output_type": "stream",
     "text": [
      "Data inválida!\n"
     ]
    }
   ],
   "source": [
    "dia = int(input('Digite um número entr 1 e 7'))\n",
    "if(dia==1):\n",
    "    print('É domingo!')\n",
    "elif(dia==2):\n",
    "    print('É segunda!')\n",
    "elif(dia==3):\n",
    "    print('É terça!')\n",
    "elif(dia==4):\n",
    "    print('É quarta!')\n",
    "elif(dia==5):\n",
    "    print('É quinta!')\n",
    "elif(dia==6):\n",
    "    print('É sexta!')\n",
    "elif(dia==7):\n",
    "    print('É sábado!')\n",
    "else:\n",
    "    print('Data inválida!')"
   ]
  },
  {
   "cell_type": "markdown",
   "metadata": {},
   "source": [
    "Aqui vão algumas informações interessantes: primeiro que o else **sempre** tem que estar no final e segundo que essa última condição só seria possível ser colocada no segundo código de forma consistente. Ao colocarmos o `else` no final do primeiro código o que aconteceria seria que toda vez que fosse digitado um número diferente de 7, incluindo os dias números anteriores, seria executado. Pois o `else` será executado se a condição do `if()` anterior não for atendida e no caso do 3 código o `else` só será executado se nenhum dos `elif()` ou `if()` for atendido. "
   ]
  },
  {
   "cell_type": "markdown",
   "metadata": {},
   "source": [
    "# Loops"
   ]
  },
  {
   "cell_type": "markdown",
   "metadata": {},
   "source": [
    "Ao escrevermos nosso algoritmo queremos que ele faça alguma tarefa várias e várias vezes como veremos em alguns exemplos, porém até agora para fazermos isso teríamos que escrever o código várias e várias vezes e isso é extremamente anti-prático. Para tanto precisamos utilizar os *loops*. Existem dois tipos de loops no python o `while()` e `for`. O `while()` é útil quando temos uma condição de parada e não sabemos quantas vezes o código será feito, usaremos o `for` quando sabemos quantas vezes rodaremos o código."
   ]
  },
  {
   "cell_type": "markdown",
   "metadata": {},
   "source": [
    "No `while()` dentro do parênteses você vai colocar a condição que deve ser satisfeita para que o código dentro dele (voltamos a falar sobre **identação**) será executado. Para isso vamos seguir o seguinte exemplo:"
   ]
  },
  {
   "cell_type": "markdown",
   "metadata": {},
   "source": [
    "### Exemplo 2) Escreva um código que digite um número e retorne a soma de todos os números inteiros até ele."
   ]
  },
  {
   "cell_type": "code",
   "execution_count": 24,
   "metadata": {},
   "outputs": [
    {
     "name": "stdout",
     "output_type": "stream",
     "text": [
      "5050\n"
     ]
    }
   ],
   "source": [
    "numero = int(input('Digite um número inteiro'))\n",
    "a = 0\n",
    "soma = 0\n",
    "while(a != numero+1):\n",
    "    soma += a\n",
    "    a += 1\n",
    "print(soma)"
   ]
  },
  {
   "cell_type": "markdown",
   "metadata": {},
   "source": [
    "Nesse exemplo iremos falar sobre vários detalhes do `while()` e até do `for()`, por isso decidi dar o exepmlo primeiro antes da explicação. Comecemos recebendo o `input` do usuário com o número, o que basicamente devemos fazer é calcular a soma de uma PA de razão 1 até o valor digitado. Inicializamos duas variáveis: *soma* e *a*"
   ]
  },
  {
   "cell_type": "code",
   "execution_count": null,
   "metadata": {},
   "outputs": [],
   "source": []
  }
 ],
 "metadata": {
  "kernelspec": {
   "display_name": "Python 3.10.4 64-bit",
   "language": "python",
   "name": "python3"
  },
  "language_info": {
   "codemirror_mode": {
    "name": "ipython",
    "version": 3
   },
   "file_extension": ".py",
   "mimetype": "text/x-python",
   "name": "python",
   "nbconvert_exporter": "python",
   "pygments_lexer": "ipython3",
   "version": "3.10.6"
  },
  "orig_nbformat": 4,
  "vscode": {
   "interpreter": {
    "hash": "916dbcbb3f70747c44a77c7bcd40155683ae19c65e1c03b4aa3499c5328201f1"
   }
  }
 },
 "nbformat": 4,
 "nbformat_minor": 2
}
